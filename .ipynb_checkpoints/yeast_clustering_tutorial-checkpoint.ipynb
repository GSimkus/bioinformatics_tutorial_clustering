    "![A DNA Microarray](https://upload.wikimedia.org/wikipedia/commons/thumb/2/2a/DNA_microarray.svg/500px-DNA_microarray.svg.png)\n",
